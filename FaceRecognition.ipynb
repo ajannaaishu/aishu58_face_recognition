{
  "nbformat": 4,
  "nbformat_minor": 0,
  "metadata": {
    "colab": {
      "name": "DetailsFromFace.ipynb",
      "provenance": [],
      "collapsed_sections": []
    },
    "kernelspec": {
      "name": "python3",
      "display_name": "Python 3"
    },
    "accelerator": "GPU"
  },
  "cells": [
    {
      "cell_type": "code",
      "metadata": {
        "id": "q-iqq2b17otu",
        "colab_type": "code",
        "colab": {}
      },
      "source": [
        "from google.colab import files\n",
        "uploadedFile = files.upload() # UPLOADING FILES TO COLAB"
      ],
      "execution_count": 0,
      "outputs": []
    },
    {
      "cell_type": "code",
      "metadata": {
        "id": "zgfQrwVm8pF-",
        "colab_type": "code",
        "outputId": "a36e9b77-dadb-418d-ec0d-0d00d072167b",
        "colab": {
          "base_uri": "https://localhost:8080/",
          "height": 34
        }
      },
      "source": [
        "import pandas as pd\n",
        "import numpy as np\n",
        "import cv2\n",
        "import urllib.request\n",
        "import io\n",
        "import os,sys\n",
        "from PIL import Image\n",
        "from google.colab.patches import cv2_imshow\n",
        "import urllib.request\n",
        "from sklearn.model_selection import train_test_split\n",
        "from sklearn.preprocessing import MultiLabelBinarizer\n",
        "from sklearn import metrics\n",
        "from keras.models import Sequential\n",
        "from keras.layers import Dense\n",
        "from keras.layers.convolutional import Conv2D\n",
        "from keras.layers.convolutional import MaxPooling2D\n",
        "from keras.layers import Dropout\n",
        "from keras.layers import Flatten\n",
        "from sklearn.utils import shuffle\n",
        "from keras import optimizers\n",
        "from keras.preprocessing.image import ImageDataGenerator\n",
        "from keras.optimizers import Adam\n",
        "import dlib\n",
        "import random\n",
        "import csv"
      ],
      "execution_count": 0,
      "outputs": [
        {
          "output_type": "stream",
          "text": [
            "Using TensorFlow backend.\n"
          ],
          "name": "stderr"
        }
      ]
    },
    {
      "cell_type": "code",
      "metadata": {
        "id": "jqWtlaTpC4v3",
        "colab_type": "code",
        "colab": {}
      },
      "source": [
        "# PROCESSING JSON\n",
        "\n",
        "data = pd.read_json('Face_Recognition.json',lines = True) # STORE CONTENT OF JSON FILE IN \"DATA\"\n",
        "\n",
        "features = []\n",
        "tempNP = []\n",
        "for num in range(len(data)):                                 # ITERATE THROUGH DATA IN JSON AND STORE THEM IN LIST\n",
        "  URL = data[\"content\"][num]\n",
        "  with urllib.request.urlopen(URL) as url:\n",
        "    f = io.BytesIO(url.read())\n",
        "  pil_image = Image.open(f).convert('RGB')\n",
        "  frame = cv2.cvtColor(np.array(pil_image), cv2.COLOR_RGB2BGR)\n",
        "  for i in data['annotation'][num]:\n",
        "    if ( len(i['label']) < 4 or i['label'][0] == 'Not_Face' ):\n",
        "      continue\n",
        "    if \"Age\" in i['label'][0]:\n",
        "      age = i['label'][0].split('Age_')[1].strip()\n",
        "      emotion = i['label'][1].split('_')[1].strip()\n",
        "    else:      \n",
        "      emotion = i['label'][0].split('_')[1].strip()\n",
        "      age = i['label'][1].split('Age_')[1].strip()\n",
        "    ethnicity = i['label'][2].split('_')[1].strip()\n",
        "    gender = i['label'][3].split('_')[1].strip()\n",
        "    startX = int(round(i['points'][0]['x'] * i['imageWidth']))\n",
        "    startY = int(round(i['points'][0]['y'] * i['imageHeight']))\n",
        "    endX = int(round(i['points'][1]['x'] * i['imageWidth']))\n",
        "    endY = int(round(i['points'][1]['y'] * i['imageHeight']))\n",
        "    roi = frame[startY:endY,startX:endX]                            # CUTTING THE FACES FROM COMPLETE PICTURE\n",
        "    npImage = np.array(roi,'float32')         \n",
        "    npImage /= 255\n",
        "    npImage = cv2.resize(npImage,(48,48))\n",
        "    tempNP.append(npImage)\n",
        "    values = [emotion,age,ethnicity,gender]\n",
        "    features.append(values)\n",
        "\n",
        "\n",
        "images = np.array(tempNP) # CONVERT THE LIST TO NUMPY ARRAY"
      ],
      "execution_count": 0,
      "outputs": []
    },
    {
      "cell_type": "code",
      "metadata": {
        "id": "5CCqelL2GXrv",
        "colab_type": "code",
        "colab": {}
      },
      "source": [
        "features = np.array(features)             # CONVERT FEATURES LIST TO NUMPY ARRAY\n"
      ],
      "execution_count": 0,
      "outputs": []
    },
    {
      "cell_type": "code",
      "metadata": {
        "id": "ZHb56Bf5Mmh7",
        "colab_type": "code",
        "colab": {}
      },
      "source": [
        "mlb = MultiLabelBinarizer()\n",
        "labels = mlb.fit_transform(features)            # ONE HOT ENCODING IS DONE ON FEATURES ARRAY (Eg: Happy 20-30 below20 .....)\n",
        "                                                #                                                   1     1      0     ......"
      ],
      "execution_count": 0,
      "outputs": []
    },
    {
      "cell_type": "code",
      "metadata": {
        "id": "doirdDnpGC4b",
        "colab_type": "code",
        "colab": {}
      },
      "source": [
        "images, labels = shuffle(images,labels,random_state=2)        # SHUFFLE THE DATA\n",
        "\n",
        "X_train, X_test, y_train, y_test = train_test_split(images, labels, random_state=42, test_size=0.1)     # splitting for training and testing."
      ],
      "execution_count": 0,
      "outputs": []
    },
    {
      "cell_type": "code",
      "metadata": {
        "id": "cSTkeJ2RI6Tg",
        "colab_type": "code",
        "outputId": "775880f4-f6f6-4ada-bd58-947d32f40954",
        "colab": {
          "base_uri": "https://localhost:8080/",
          "height": 231
        }
      },
      "source": [
        "model = Sequential()\n",
        "model.add(Conv2D(32, kernel_size=(3, 3), activation=\"relu\", input_shape=(48,48,3)))\n",
        "model.add(MaxPooling2D(pool_size=(2, 2)))\n",
        "\n",
        "model.add(Conv2D(filters=64, kernel_size=(3, 3), activation='relu'))\n",
        "model.add(MaxPooling2D(pool_size=(2, 2)))\n",
        "\n",
        "model.add(Conv2D(filters=128, kernel_size=(3, 3), activation='relu'))\n",
        "model.add(Conv2D(filters=64, kernel_size=(1, 1), activation='relu'))\n",
        "model.add(Conv2D(filters=128, kernel_size=(3, 3), activation='relu'))\n",
        "model.add(MaxPooling2D(pool_size=(2, 2)))\n",
        "\n",
        "model.add(Flatten())\n",
        "model.add(Dense(19, activation='sigmoid'))"
      ],
      "execution_count": 0,
      "outputs": [
        {
          "output_type": "error",
          "ename": "NameError",
          "evalue": "ignored",
          "traceback": [
            "\u001b[0;31m---------------------------------------------------------------------------\u001b[0m",
            "\u001b[0;31mNameError\u001b[0m                                 Traceback (most recent call last)",
            "\u001b[0;32m<ipython-input-1-907dab2c25cb>\u001b[0m in \u001b[0;36m<module>\u001b[0;34m()\u001b[0m\n\u001b[0;32m----> 1\u001b[0;31m \u001b[0mmodel\u001b[0m \u001b[0;34m=\u001b[0m \u001b[0mSequential\u001b[0m\u001b[0;34m(\u001b[0m\u001b[0;34m)\u001b[0m\u001b[0;34m\u001b[0m\u001b[0;34m\u001b[0m\u001b[0m\n\u001b[0m\u001b[1;32m      2\u001b[0m \u001b[0mmodel\u001b[0m\u001b[0;34m.\u001b[0m\u001b[0madd\u001b[0m\u001b[0;34m(\u001b[0m\u001b[0mConv2D\u001b[0m\u001b[0;34m(\u001b[0m\u001b[0mfilters\u001b[0m\u001b[0;34m=\u001b[0m\u001b[0;36m16\u001b[0m\u001b[0;34m,\u001b[0m \u001b[0mkernel_size\u001b[0m\u001b[0;34m=\u001b[0m\u001b[0;34m(\u001b[0m\u001b[0;36m5\u001b[0m\u001b[0;34m,\u001b[0m \u001b[0;36m5\u001b[0m\u001b[0;34m)\u001b[0m\u001b[0;34m,\u001b[0m \u001b[0mactivation\u001b[0m\u001b[0;34m=\u001b[0m\u001b[0;34m\"relu\"\u001b[0m\u001b[0;34m,\u001b[0m \u001b[0minput_shape\u001b[0m\u001b[0;34m=\u001b[0m\u001b[0;34m(\u001b[0m\u001b[0;36m48\u001b[0m\u001b[0;34m,\u001b[0m\u001b[0;36m48\u001b[0m\u001b[0;34m,\u001b[0m\u001b[0;36m3\u001b[0m\u001b[0;34m)\u001b[0m\u001b[0;34m)\u001b[0m\u001b[0;34m)\u001b[0m\u001b[0;34m\u001b[0m\u001b[0;34m\u001b[0m\u001b[0m\n\u001b[1;32m      3\u001b[0m \u001b[0mmodel\u001b[0m\u001b[0;34m.\u001b[0m\u001b[0madd\u001b[0m\u001b[0;34m(\u001b[0m\u001b[0mMaxPooling2D\u001b[0m\u001b[0;34m(\u001b[0m\u001b[0mpool_size\u001b[0m\u001b[0;34m=\u001b[0m\u001b[0;34m(\u001b[0m\u001b[0;36m2\u001b[0m\u001b[0;34m,\u001b[0m \u001b[0;36m2\u001b[0m\u001b[0;34m)\u001b[0m\u001b[0;34m)\u001b[0m\u001b[0;34m)\u001b[0m\u001b[0;34m\u001b[0m\u001b[0;34m\u001b[0m\u001b[0m\n\u001b[1;32m      4\u001b[0m \u001b[0mmodel\u001b[0m\u001b[0;34m.\u001b[0m\u001b[0madd\u001b[0m\u001b[0;34m(\u001b[0m\u001b[0mDropout\u001b[0m\u001b[0;34m(\u001b[0m\u001b[0;36m0.25\u001b[0m\u001b[0;34m)\u001b[0m\u001b[0;34m)\u001b[0m\u001b[0;34m\u001b[0m\u001b[0;34m\u001b[0m\u001b[0m\n\u001b[1;32m      5\u001b[0m \u001b[0mmodel\u001b[0m\u001b[0;34m.\u001b[0m\u001b[0madd\u001b[0m\u001b[0;34m(\u001b[0m\u001b[0mConv2D\u001b[0m\u001b[0;34m(\u001b[0m\u001b[0mfilters\u001b[0m\u001b[0;34m=\u001b[0m\u001b[0;36m32\u001b[0m\u001b[0;34m,\u001b[0m \u001b[0mkernel_size\u001b[0m\u001b[0;34m=\u001b[0m\u001b[0;34m(\u001b[0m\u001b[0;36m5\u001b[0m\u001b[0;34m,\u001b[0m \u001b[0;36m5\u001b[0m\u001b[0;34m)\u001b[0m\u001b[0;34m,\u001b[0m \u001b[0mactivation\u001b[0m\u001b[0;34m=\u001b[0m\u001b[0;34m'relu'\u001b[0m\u001b[0;34m)\u001b[0m\u001b[0;34m)\u001b[0m\u001b[0;34m\u001b[0m\u001b[0;34m\u001b[0m\u001b[0m\n",
            "\u001b[0;31mNameError\u001b[0m: name 'Sequential' is not defined"
          ]
        }
      ]
    },
    {
      "cell_type": "code",
      "metadata": {
        "id": "L_aArzqNqmkA",
        "colab_type": "code",
        "outputId": "6bdc58cb-92be-45d1-9762-4621abd0772e",
        "colab": {
          "base_uri": "https://localhost:8080/",
          "height": 938
        }
      },
      "source": [
        "model.compile(loss='binary_crossentropy',\n",
        "              optimizer='adam', metrics=['accuracy'])\n",
        "\n",
        "model.fit(X_train, y_train, validation_data=(X_test, y_test), nb_epoch=20, batch_size=2)      #epoch = number of iterations"
      ],
      "execution_count": 0,
      "outputs": [
        {
          "output_type": "stream",
          "text": [
            "WARNING:tensorflow:From /usr/local/lib/python3.6/dist-packages/keras/optimizers.py:793: The name tf.train.Optimizer is deprecated. Please use tf.compat.v1.train.Optimizer instead.\n",
            "\n",
            "WARNING:tensorflow:From /usr/local/lib/python3.6/dist-packages/keras/backend/tensorflow_backend.py:3657: The name tf.log is deprecated. Please use tf.math.log instead.\n",
            "\n",
            "WARNING:tensorflow:From /usr/local/lib/python3.6/dist-packages/tensorflow/python/ops/nn_impl.py:180: add_dispatch_support.<locals>.wrapper (from tensorflow.python.ops.array_ops) is deprecated and will be removed in a future version.\n",
            "Instructions for updating:\n",
            "Use tf.where in 2.0, which has the same broadcast rule as np.where\n",
            "WARNING:tensorflow:From /usr/local/lib/python3.6/dist-packages/keras/backend/tensorflow_backend.py:1033: The name tf.assign_add is deprecated. Please use tf.compat.v1.assign_add instead.\n",
            "\n"
          ],
          "name": "stdout"
        },
        {
          "output_type": "stream",
          "text": [
            "/usr/local/lib/python3.6/dist-packages/ipykernel_launcher.py:4: UserWarning: The `nb_epoch` argument in `fit` has been renamed `epochs`.\n",
            "  after removing the cwd from sys.path.\n"
          ],
          "name": "stderr"
        },
        {
          "output_type": "stream",
          "text": [
            "Train on 178 samples, validate on 20 samples\n",
            "Epoch 1/20\n",
            "178/178 [==============================] - 7s 41ms/step - loss: 0.4365 - acc: 0.7809 - val_loss: 0.3869 - val_acc: 0.8105\n",
            "Epoch 2/20\n",
            "178/178 [==============================] - 0s 3ms/step - loss: 0.3999 - acc: 0.8066 - val_loss: 0.3714 - val_acc: 0.8000\n",
            "Epoch 3/20\n",
            "178/178 [==============================] - 0s 3ms/step - loss: 0.3927 - acc: 0.8007 - val_loss: 0.3909 - val_acc: 0.7895\n",
            "Epoch 4/20\n",
            "178/178 [==============================] - 0s 3ms/step - loss: 0.3920 - acc: 0.8060 - val_loss: 0.3785 - val_acc: 0.8000\n",
            "Epoch 5/20\n",
            "178/178 [==============================] - 0s 3ms/step - loss: 0.3881 - acc: 0.8019 - val_loss: 0.3839 - val_acc: 0.8026\n",
            "Epoch 6/20\n",
            "178/178 [==============================] - 0s 3ms/step - loss: 0.3880 - acc: 0.8087 - val_loss: 0.3747 - val_acc: 0.8000\n",
            "Epoch 7/20\n",
            "178/178 [==============================] - 0s 3ms/step - loss: 0.3848 - acc: 0.8031 - val_loss: 0.3764 - val_acc: 0.8132\n",
            "Epoch 8/20\n",
            "178/178 [==============================] - 0s 3ms/step - loss: 0.3853 - acc: 0.8034 - val_loss: 0.3745 - val_acc: 0.8000\n",
            "Epoch 9/20\n",
            "178/178 [==============================] - 0s 3ms/step - loss: 0.3824 - acc: 0.8057 - val_loss: 0.3742 - val_acc: 0.7868\n",
            "Epoch 10/20\n",
            "178/178 [==============================] - 0s 3ms/step - loss: 0.3824 - acc: 0.8063 - val_loss: 0.3853 - val_acc: 0.7974\n",
            "Epoch 11/20\n",
            "178/178 [==============================] - 0s 3ms/step - loss: 0.3793 - acc: 0.8090 - val_loss: 0.3794 - val_acc: 0.8105\n",
            "Epoch 12/20\n",
            "178/178 [==============================] - 0s 3ms/step - loss: 0.3783 - acc: 0.8087 - val_loss: 0.3746 - val_acc: 0.8000\n",
            "Epoch 13/20\n",
            "178/178 [==============================] - 0s 3ms/step - loss: 0.3790 - acc: 0.8072 - val_loss: 0.3739 - val_acc: 0.8132\n",
            "Epoch 14/20\n",
            "178/178 [==============================] - 0s 3ms/step - loss: 0.3788 - acc: 0.8202 - val_loss: 0.3716 - val_acc: 0.8184\n",
            "Epoch 15/20\n",
            "178/178 [==============================] - 0s 3ms/step - loss: 0.3716 - acc: 0.8167 - val_loss: 0.3769 - val_acc: 0.8132\n",
            "Epoch 16/20\n",
            "178/178 [==============================] - 0s 3ms/step - loss: 0.3703 - acc: 0.8140 - val_loss: 0.3918 - val_acc: 0.8026\n",
            "Epoch 17/20\n",
            "178/178 [==============================] - 0s 3ms/step - loss: 0.3683 - acc: 0.8229 - val_loss: 0.3858 - val_acc: 0.8026\n",
            "Epoch 18/20\n",
            "178/178 [==============================] - 0s 3ms/step - loss: 0.3617 - acc: 0.8235 - val_loss: 0.3947 - val_acc: 0.7868\n",
            "Epoch 19/20\n",
            "178/178 [==============================] - 0s 3ms/step - loss: 0.3534 - acc: 0.8288 - val_loss: 0.4035 - val_acc: 0.7895\n",
            "Epoch 20/20\n",
            "178/178 [==============================] - 0s 3ms/step - loss: 0.3470 - acc: 0.8362 - val_loss: 0.4223 - val_acc: 0.7868\n"
          ],
          "name": "stdout"
        },
        {
          "output_type": "execute_result",
          "data": {
            "text/plain": [
              "<keras.callbacks.History at 0x7f240150f908>"
            ]
          },
          "metadata": {
            "tags": []
          },
          "execution_count": 9
        }
      ]
    },
    {
      "cell_type": "code",
      "metadata": {
        "id": "z1vLOYJBpFfl",
        "colab_type": "code",
        "outputId": "d895174f-ecb6-4c66-aba3-36edb12c8b31",
        "colab": {
          "base_uri": "https://localhost:8080/",
          "height": 421
        }
      },
      "source": [
        "image = cv2.imread('example.jpeg') # testing input image\n",
        "\n",
        "if image is None:\n",
        "    print(\"Could not read input image\")\n",
        "    exit()\n",
        "\n",
        "cnn_face_detector = dlib.cnn_face_detection_model_v1('mmod_human_face_detector.dat') # pretrained model for human face detection\n",
        "\n",
        "faces_cnn = cnn_face_detector(image, 1)\n",
        "\n",
        "for face in faces_cnn: # get bounding box coordinates\n",
        "    x = face.rect.left()\n",
        "    x = int(x - (0.1 * x))\n",
        "    y = face.rect.top()\n",
        "    y = int(y - (0.15 * y))\n",
        "    x2 = face.rect.right()\n",
        "    x2 = int(x2 + (0.1 * x2))\n",
        "    y2 = face.rect.bottom()\n",
        "    y2 = int(y2 + (0.1 * y2))\n",
        "\n",
        "    roi = image[y:y2,x:x2] # extract face from complete picture\n",
        "    cv2.imwrite(os.path.join('face'+str(int(random.random()*10))+'.jpg'), roi) # saving the face with \"face<randomnumber>\"\n"
      ],
      "execution_count": 0,
      "outputs": [
        {
          "output_type": "stream",
          "text": [
            "Could not read input image\n"
          ],
          "name": "stdout"
        },
        {
          "output_type": "error",
          "ename": "TypeError",
          "evalue": "ignored",
          "traceback": [
            "\u001b[0;31m---------------------------------------------------------------------------\u001b[0m",
            "\u001b[0;31mTypeError\u001b[0m                                 Traceback (most recent call last)",
            "\u001b[0;32m<ipython-input-10-b7f8db92189d>\u001b[0m in \u001b[0;36m<module>\u001b[0;34m()\u001b[0m\n\u001b[1;32m      7\u001b[0m \u001b[0mcnn_face_detector\u001b[0m \u001b[0;34m=\u001b[0m \u001b[0mdlib\u001b[0m\u001b[0;34m.\u001b[0m\u001b[0mcnn_face_detection_model_v1\u001b[0m\u001b[0;34m(\u001b[0m\u001b[0;34m'mmod_human_face_detector.dat'\u001b[0m\u001b[0;34m)\u001b[0m \u001b[0;31m# pretrained model for human face detection\u001b[0m\u001b[0;34m\u001b[0m\u001b[0;34m\u001b[0m\u001b[0m\n\u001b[1;32m      8\u001b[0m \u001b[0;34m\u001b[0m\u001b[0m\n\u001b[0;32m----> 9\u001b[0;31m \u001b[0mfaces_cnn\u001b[0m \u001b[0;34m=\u001b[0m \u001b[0mcnn_face_detector\u001b[0m\u001b[0;34m(\u001b[0m\u001b[0mimage\u001b[0m\u001b[0;34m,\u001b[0m \u001b[0;36m1\u001b[0m\u001b[0;34m)\u001b[0m\u001b[0;34m\u001b[0m\u001b[0;34m\u001b[0m\u001b[0m\n\u001b[0m\u001b[1;32m     10\u001b[0m \u001b[0;34m\u001b[0m\u001b[0m\n\u001b[1;32m     11\u001b[0m \u001b[0;32mfor\u001b[0m \u001b[0mface\u001b[0m \u001b[0;32min\u001b[0m \u001b[0mfaces_cnn\u001b[0m\u001b[0;34m:\u001b[0m \u001b[0;31m# get bounding box coordinates\u001b[0m\u001b[0;34m\u001b[0m\u001b[0;34m\u001b[0m\u001b[0m\n",
            "\u001b[0;31mTypeError\u001b[0m: __call__(): incompatible function arguments. The following argument types are supported:\n    1. (self: dlib.cnn_face_detection_model_v1, imgs: list, upsample_num_times: int=0, batch_size: int=128) -> std::vector<std::vector<dlib::mmod_rect, std::allocator<dlib::mmod_rect> >, std::allocator<std::vector<dlib::mmod_rect, std::allocator<dlib::mmod_rect> > > >\n    2. (self: dlib.cnn_face_detection_model_v1, img: array, upsample_num_times: int=0) -> std::vector<dlib::mmod_rect, std::allocator<dlib::mmod_rect> >\n\nInvoked with: <dlib.cnn_face_detection_model_v1 object at 0x7f23891bc308>, None, 1\n\nDid you forget to `#include <pybind11/stl.h>`? Or <pybind11/complex.h>,\n<pybind11/functional.h>, <pybind11/chrono.h>, etc. Some automatic\nconversions are optional and require extra headers to be included\nwhen compiling your pybind11 module."
          ]
        }
      ]
    },
    {
      "cell_type": "code",
      "metadata": {
        "id": "H0qqLQcaP2bE",
        "colab_type": "code",
        "outputId": "656c2102-9e27-4be1-c07e-b6b1f5d55531",
        "colab": {
          "base_uri": "https://localhost:8080/",
          "height": 249
        }
      },
      "source": [
        "files = os.listdir('/content') # getting all files in /content folder of google colab\n",
        "for file in files:\n",
        "  if file[:4] == 'face': # we saved our image of faces with name as \"face<randomnumber>\" \n",
        "    img = cv2.imread(file)\n",
        "    img = np.array(cv2.resize(img,(48,48)),'float32') # cnn accepts only 96x96 image\n",
        "    cv2_imshow(img)\n",
        "    img = img/255 # standardization\n",
        "    \n",
        "    classes = np.array(mlb.classes_) # it contains all the labels of our class\n",
        "    proba = model.predict(img.reshape(1,48,48,3)) # prediction takes place here\n",
        "    top_3 = np.argsort(proba[0])[:-5:-1] \n",
        "    for i in range(4):\n",
        "      print(classes[top_3[i]],proba[0][top_3[i]]*100) # display all possibilities with percentage\n",
        "\n",
        "\n",
        "    "
      ],
      "execution_count": 0,
      "outputs": [
        {
          "output_type": "display_data",
          "data": {
            "image/png": "[encoded data removed]",
            "text/plain": [
              "<PIL.Image.Image image mode=RGB size=48x48 at 0x7F7E6030BD68>"
            ]
          },
          "metadata": {
            "tags": []
          }
        },
        {
          "output_type": "stream",
          "text": [
            "Female 80.42693138122559\n",
            "Neutral 70.29515504837036\n",
            "White 60.82105040550232\n",
            "20_30 48.38664531707764\n"
          ],
          "name": "stdout"
        },
        {
          "output_type": "display_data",
          "data": {
            "image/png": "[encoded data removed]",
            "text/plain": [
              "<PIL.Image.Image image mode=RGB size=48x48 at 0x7F7E6A940208>"
            ]
          },
          "metadata": {
            "tags": []
          }
        },
        {
          "output_type": "stream",
          "text": [
            "Neutral 99.99656677246094\n",
            "Asian 99.68774318695068\n",
            "below20 94.90188360214233\n",
            "Male 81.43944144248962\n"
          ],
          "name": "stdout"
        }
      ]
    },
    {
      "cell_type": "code",
      "metadata": {
        "id": "VS7olWbTRx3N",
        "colab_type": "code",
        "colab": {}
      },
      "source": [
        ""
      ],
      "execution_count": 0,
      "outputs": []
    }
  ]
}